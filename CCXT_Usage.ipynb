{
 "cells": [
  {
   "cell_type": "code",
   "execution_count": 2,
   "metadata": {},
   "outputs": [
    {
     "name": "stdout",
     "output_type": "stream",
     "text": [
      "This file exists for the purpose of making sure the Anaconda environment and the relative modules are working properly.\n"
     ]
    }
   ],
   "source": [
    "print(\"This file exists for the purpose of making sure the Anaconda environment and the relative modules are working properly.\")"
   ]
  },
  {
   "cell_type": "code",
   "execution_count": 3,
   "metadata": {},
   "outputs": [],
   "source": [
    "import ccxt\n",
    "import backtrader as bt\n",
    "import numpy as np\n",
    "import pandas as pd\n",
    "import matplotlib as plt"
   ]
  },
  {
   "cell_type": "code",
   "execution_count": 4,
   "metadata": {},
   "outputs": [],
   "source": [
    "exchange = ccxt.binance({\n",
    "    'enableRateLimit': True\n",
    "    # 'apiKey': '你的API_KEY',\n",
    "    # 'secret': '你的SECRET_KEY',\n",
    "})"
   ]
  },
  {
   "cell_type": "code",
   "execution_count": null,
   "metadata": {},
   "outputs": [
    {
     "name": "stdout",
     "output_type": "stream",
     "text": [
      "{'id': 'BTCUSDT', 'lowercaseId': 'btcusdt', 'symbol': 'BTC/USDT', 'base': 'BTC', 'quote': 'USDT', 'settle': None, 'baseId': 'BTC', 'quoteId': 'USDT', 'settleId': None, 'type': 'spot', 'spot': True, 'margin': True, 'swap': False, 'future': False, 'option': False, 'index': None, 'active': True, 'contract': False, 'linear': None, 'inverse': None, 'subType': None, 'taker': 0.001, 'maker': 0.001, 'contractSize': None, 'expiry': None, 'expiryDatetime': None, 'strike': None, 'optionType': None, 'precision': {'amount': 1e-05, 'price': 0.01, 'cost': None, 'base': 1e-08, 'quote': 1e-08}, 'limits': {'leverage': {'min': None, 'max': None}, 'amount': {'min': 1e-05, 'max': 9000.0}, 'price': {'min': 0.01, 'max': 1000000.0}, 'cost': {'min': 5.0, 'max': 9000000.0}, 'market': {'min': 0.0, 'max': 82.76328129}}, 'marginModes': {'cross': False, 'isolated': False}, 'created': None, 'info': {'symbol': 'BTCUSDT', 'status': 'TRADING', 'baseAsset': 'BTC', 'baseAssetPrecision': '8', 'quoteAsset': 'USDT', 'quotePrecision': '8', 'quoteAssetPrecision': '8', 'baseCommissionPrecision': '8', 'quoteCommissionPrecision': '8', 'orderTypes': ['LIMIT', 'LIMIT_MAKER', 'MARKET', 'STOP_LOSS', 'STOP_LOSS_LIMIT', 'TAKE_PROFIT', 'TAKE_PROFIT_LIMIT'], 'icebergAllowed': True, 'ocoAllowed': True, 'otoAllowed': True, 'quoteOrderQtyMarketAllowed': True, 'allowTrailingStop': True, 'cancelReplaceAllowed': True, 'isSpotTradingAllowed': True, 'isMarginTradingAllowed': True, 'filters': [{'filterType': 'PRICE_FILTER', 'minPrice': '0.01000000', 'maxPrice': '1000000.00000000', 'tickSize': '0.01000000'}, {'filterType': 'LOT_SIZE', 'minQty': '0.00001000', 'maxQty': '9000.00000000', 'stepSize': '0.00001000'}, {'filterType': 'ICEBERG_PARTS', 'limit': '10'}, {'filterType': 'MARKET_LOT_SIZE', 'minQty': '0.00000000', 'maxQty': '82.76328129', 'stepSize': '0.00000000'}, {'filterType': 'TRAILING_DELTA', 'minTrailingAboveDelta': '10', 'maxTrailingAboveDelta': '2000', 'minTrailingBelowDelta': '10', 'maxTrailingBelowDelta': '2000'}, {'filterType': 'PERCENT_PRICE_BY_SIDE', 'bidMultiplierUp': '5', 'bidMultiplierDown': '0.2', 'askMultiplierUp': '5', 'askMultiplierDown': '0.2', 'avgPriceMins': '5'}, {'filterType': 'NOTIONAL', 'minNotional': '5.00000000', 'applyMinToMarket': True, 'maxNotional': '9000000.00000000', 'applyMaxToMarket': False, 'avgPriceMins': '5'}, {'filterType': 'MAX_NUM_ORDERS', 'maxNumOrders': '200'}, {'filterType': 'MAX_NUM_ALGO_ORDERS', 'maxNumAlgoOrders': '5'}], 'permissions': [], 'permissionSets': [['SPOT', 'MARGIN', 'TRD_GRP_004', 'TRD_GRP_005', 'TRD_GRP_006', 'TRD_GRP_009', 'TRD_GRP_010', 'TRD_GRP_011', 'TRD_GRP_012', 'TRD_GRP_013', 'TRD_GRP_014', 'TRD_GRP_015', 'TRD_GRP_016', 'TRD_GRP_017', 'TRD_GRP_018', 'TRD_GRP_019', 'TRD_GRP_020', 'TRD_GRP_021', 'TRD_GRP_022', 'TRD_GRP_023', 'TRD_GRP_024', 'TRD_GRP_025', 'TRD_GRP_026', 'TRD_GRP_027', 'TRD_GRP_028', 'TRD_GRP_029', 'TRD_GRP_030', 'TRD_GRP_031', 'TRD_GRP_032', 'TRD_GRP_033', 'TRD_GRP_034', 'TRD_GRP_035', 'TRD_GRP_036', 'TRD_GRP_037', 'TRD_GRP_038', 'TRD_GRP_039', 'TRD_GRP_040', 'TRD_GRP_041', 'TRD_GRP_042', 'TRD_GRP_043', 'TRD_GRP_044', 'TRD_GRP_045', 'TRD_GRP_046', 'TRD_GRP_047', 'TRD_GRP_048', 'TRD_GRP_049', 'TRD_GRP_050', 'TRD_GRP_051', 'TRD_GRP_052', 'TRD_GRP_053', 'TRD_GRP_054', 'TRD_GRP_055', 'TRD_GRP_056', 'TRD_GRP_057', 'TRD_GRP_058', 'TRD_GRP_059', 'TRD_GRP_060', 'TRD_GRP_061', 'TRD_GRP_062', 'TRD_GRP_063', 'TRD_GRP_064', 'TRD_GRP_065', 'TRD_GRP_066', 'TRD_GRP_067', 'TRD_GRP_068', 'TRD_GRP_069', 'TRD_GRP_070', 'TRD_GRP_071', 'TRD_GRP_072', 'TRD_GRP_073', 'TRD_GRP_074', 'TRD_GRP_075', 'TRD_GRP_076', 'TRD_GRP_077', 'TRD_GRP_078', 'TRD_GRP_079', 'TRD_GRP_080', 'TRD_GRP_081', 'TRD_GRP_082', 'TRD_GRP_083', 'TRD_GRP_084', 'TRD_GRP_085', 'TRD_GRP_086', 'TRD_GRP_087', 'TRD_GRP_088', 'TRD_GRP_089', 'TRD_GRP_090', 'TRD_GRP_091', 'TRD_GRP_092', 'TRD_GRP_093', 'TRD_GRP_094', 'TRD_GRP_095', 'TRD_GRP_096', 'TRD_GRP_097', 'TRD_GRP_098', 'TRD_GRP_099', 'TRD_GRP_100', 'TRD_GRP_101', 'TRD_GRP_102', 'TRD_GRP_103', 'TRD_GRP_104', 'TRD_GRP_105', 'TRD_GRP_106', 'TRD_GRP_107', 'TRD_GRP_108', 'TRD_GRP_109', 'TRD_GRP_110', 'TRD_GRP_111', 'TRD_GRP_112', 'TRD_GRP_113', 'TRD_GRP_114', 'TRD_GRP_115', 'TRD_GRP_116', 'TRD_GRP_117', 'TRD_GRP_118', 'TRD_GRP_119', 'TRD_GRP_120', 'TRD_GRP_121', 'TRD_GRP_122', 'TRD_GRP_123', 'TRD_GRP_124', 'TRD_GRP_125', 'TRD_GRP_126', 'TRD_GRP_127', 'TRD_GRP_128', 'TRD_GRP_129', 'TRD_GRP_130', 'TRD_GRP_131', 'TRD_GRP_132', 'TRD_GRP_133', 'TRD_GRP_134', 'TRD_GRP_135', 'TRD_GRP_136', 'TRD_GRP_137', 'TRD_GRP_138', 'TRD_GRP_139', 'TRD_GRP_140', 'TRD_GRP_141', 'TRD_GRP_142', 'TRD_GRP_143', 'TRD_GRP_144', 'TRD_GRP_145', 'TRD_GRP_146', 'TRD_GRP_147', 'TRD_GRP_148', 'TRD_GRP_149', 'TRD_GRP_150', 'TRD_GRP_151', 'TRD_GRP_152', 'TRD_GRP_153', 'TRD_GRP_154', 'TRD_GRP_155', 'TRD_GRP_156', 'TRD_GRP_157', 'TRD_GRP_158', 'TRD_GRP_159', 'TRD_GRP_160', 'TRD_GRP_161', 'TRD_GRP_162', 'TRD_GRP_163', 'TRD_GRP_164', 'TRD_GRP_165', 'TRD_GRP_166', 'TRD_GRP_167', 'TRD_GRP_168', 'TRD_GRP_169', 'TRD_GRP_170', 'TRD_GRP_171', 'TRD_GRP_172', 'TRD_GRP_173', 'TRD_GRP_174', 'TRD_GRP_175', 'TRD_GRP_176', 'TRD_GRP_177', 'TRD_GRP_178', 'TRD_GRP_179', 'TRD_GRP_180', 'TRD_GRP_181', 'TRD_GRP_182', 'TRD_GRP_183', 'TRD_GRP_184', 'TRD_GRP_185', 'TRD_GRP_186', 'TRD_GRP_187', 'TRD_GRP_188', 'TRD_GRP_189', 'TRD_GRP_190', 'TRD_GRP_191', 'TRD_GRP_192', 'TRD_GRP_193', 'TRD_GRP_194', 'TRD_GRP_195', 'TRD_GRP_196', 'TRD_GRP_197', 'TRD_GRP_198', 'TRD_GRP_199', 'TRD_GRP_200', 'TRD_GRP_201', 'TRD_GRP_202', 'TRD_GRP_203', 'TRD_GRP_204', 'TRD_GRP_205', 'TRD_GRP_206', 'TRD_GRP_207', 'TRD_GRP_208', 'TRD_GRP_209', 'TRD_GRP_210', 'TRD_GRP_211', 'TRD_GRP_212', 'TRD_GRP_213', 'TRD_GRP_214', 'TRD_GRP_215', 'TRD_GRP_216', 'TRD_GRP_217', 'TRD_GRP_218', 'TRD_GRP_219', 'TRD_GRP_220', 'TRD_GRP_221', 'TRD_GRP_222', 'TRD_GRP_223', 'TRD_GRP_224', 'TRD_GRP_225', 'TRD_GRP_226', 'TRD_GRP_227', 'TRD_GRP_228', 'TRD_GRP_229', 'TRD_GRP_230', 'TRD_GRP_231', 'TRD_GRP_232', 'TRD_GRP_233', 'TRD_GRP_234', 'TRD_GRP_235']], 'defaultSelfTradePreventionMode': 'EXPIRE_MAKER', 'allowedSelfTradePreventionModes': ['EXPIRE_TAKER', 'EXPIRE_MAKER', 'EXPIRE_BOTH']}, 'tierBased': False, 'percentage': True, 'feeSide': 'get'}\n",
      "0.001\n",
      "False\n"
     ]
    },
    {
     "data": {
      "text/plain": [
       "'\\nTo find out more structure about the markets, visit the following link:\\nhttps://docs.ccxt.com/#/README?id=market-structure\\n'"
      ]
     },
     "execution_count": 9,
     "metadata": {},
     "output_type": "execute_result"
    }
   ],
   "source": [
    "# Loading all information about the markets\n",
    "\n",
    "markets = exchange.load_markets()\n",
    "print(markets['BTC/USDT'])\n",
    "print(markets['BTC/USDT']['taker'])\n",
    "print(markets['BTC/USDT']['marginModes']['cross'])\n",
    "\n",
    "\n",
    "'''\n",
    "To find out more structure about the markets, visit the following link:\n",
    "https://docs.ccxt.com/#/README?id=market-structure\n",
    "'''"
   ]
  },
  {
   "cell_type": "code",
   "execution_count": null,
   "metadata": {},
   "outputs": [
    {
     "name": "stdout",
     "output_type": "stream",
     "text": [
      "supported : ['1000000MOG/USDT:USDT', '1000BONK/USDC:USDC', '1000BONK/USDT:USDT', '1000CAT/BNB', '1000CAT/FDUSD', '1000CAT/TRY', '1000CAT/USDC', '1000CAT/USDT', '1000CAT/USDT:USDT', '1000CHEEMS/USDC']\n"
     ]
    }
   ],
   "source": [
    "# Not important (this should run AFTER loading the markets)\n",
    "\n",
    "symbols = exchange.symbols\n",
    "print(\"supported :\", symbols[:10])  # first 10 symbols"
   ]
  },
  {
   "cell_type": "code",
   "execution_count": null,
   "metadata": {},
   "outputs": [
    {
     "name": "stdout",
     "output_type": "stream",
     "text": [
      "{'symbol': 'BTC/USDT', 'timestamp': 1739372194949, 'datetime': '2025-02-12T14:56:34.949Z', 'high': 97262.56, 'low': 94088.23, 'bid': 95575.2, 'bidVolume': 3.76734, 'ask': 95575.21, 'askVolume': 1.07357, 'vwap': 95619.77915189, 'open': 97000.0, 'close': 95575.2, 'last': 95575.2, 'previousClose': 97000.01, 'change': -1424.8, 'percentage': -1.469, 'average': 96287.6, 'baseVolume': 25254.48259, 'quoteVolume': 2414828047.851163, 'markPrice': None, 'indexPrice': None, 'info': {'symbol': 'BTCUSDT', 'priceChange': '-1424.80000000', 'priceChangePercent': '-1.469', 'weightedAvgPrice': '95619.77915189', 'prevClosePrice': '97000.01000000', 'lastPrice': '95575.20000000', 'lastQty': '0.02012000', 'bidPrice': '95575.20000000', 'bidQty': '3.76734000', 'askPrice': '95575.21000000', 'askQty': '1.07357000', 'openPrice': '97000.00000000', 'highPrice': '97262.56000000', 'lowPrice': '94088.23000000', 'volume': '25254.48259000', 'quoteVolume': '2414828047.85116270', 'openTime': '1739285794949', 'closeTime': '1739372194949', 'firstId': '4546042436', 'lastId': '4550532890', 'count': '4490455'}}\n",
      "95575.2\n",
      "1739372194949\n",
      "2025-02-12T14:56:34.949Z\n",
      "97000.0\n",
      "97262.56\n",
      "94088.23\n",
      "95575.2\n",
      "95619.77915189\n"
     ]
    }
   ],
   "source": [
    "# Getting the ticker of BTC/USDT\n",
    "\n",
    "ticker = exchange.fetch_ticker('BTC/USDT')\n",
    "print(ticker)\n",
    "print(ticker['last']) # Last price of BTC\n",
    "print(ticker['timestamp']) # Timestamp of the last price\n",
    "print(ticker['datetime']) # Datetime of the last price\n",
    "print(ticker['open'])\n",
    "print(ticker['high'])\n",
    "print(ticker['low'])\n",
    "print(ticker['close'])\n",
    "print(ticker['vwap']) # Volume Weighted Average Price, a TA"
   ]
  },
  {
   "cell_type": "code",
   "execution_count": 12,
   "metadata": {},
   "outputs": [],
   "source": [
    "# Error Detecting when getting ticker\n",
    "\n",
    "try:\n",
    "    ticker = exchange.fetch_ticker('BTC/USDT')\n",
    "except ccxt.NetworkError as e:\n",
    "    print(\"網路錯誤:\", str(e))\n",
    "except ccxt.ExchangeError as e:\n",
    "    print(\"交易所錯誤:\", str(e))\n",
    "except Exception as e:\n",
    "    print(\"其他錯誤:\", str(e))"
   ]
  },
  {
   "cell_type": "code",
   "execution_count": 19,
   "metadata": {},
   "outputs": [
    {
     "name": "stdout",
     "output_type": "stream",
     "text": [
      "         timestamp       open       high        low      close      volume\n",
      "0    1737576000000  104630.00  104830.12  104070.61  104321.10  1253.12925\n",
      "1    1737579600000  104321.11  104369.12  103611.66  104088.03   709.88066\n",
      "2    1737583200000  104086.95  104514.80  103770.01  103866.79   555.44817\n",
      "3    1737586800000  103866.79  104143.99  103654.00  103706.66   438.04901\n",
      "4    1737590400000  103706.66  103819.99  103052.82  103307.51   959.67667\n",
      "..             ...        ...        ...        ...        ...         ...\n",
      "495  1739358000000   95978.00   96377.32   95978.00   96094.65   437.01756\n",
      "496  1739361600000   96094.65   96350.00   95944.44   95982.97   471.65116\n",
      "497  1739365200000   95982.97   96631.66   94088.23   94975.38  6201.22653\n",
      "498  1739368800000   94975.37   95685.90   94500.00   95628.91  2815.25179\n",
      "499  1739372400000   95628.92   95673.83   95384.61   95418.00    53.49508\n",
      "\n",
      "[500 rows x 6 columns]\n",
      "----------------------------------------------------------------------------------------------------------------------\n",
      "                          open       high        low      close      volume\n",
      "timestamp                                                                  \n",
      "2025-01-22 20:00:00  104630.00  104830.12  104070.61  104321.10  1253.12925\n",
      "2025-01-22 21:00:00  104321.11  104369.12  103611.66  104088.03   709.88066\n",
      "2025-01-22 22:00:00  104086.95  104514.80  103770.01  103866.79   555.44817\n",
      "2025-01-22 23:00:00  103866.79  104143.99  103654.00  103706.66   438.04901\n",
      "2025-01-23 00:00:00  103706.66  103819.99  103052.82  103307.51   959.67667\n",
      "...                        ...        ...        ...        ...         ...\n",
      "2025-02-12 11:00:00   95978.00   96377.32   95978.00   96094.65   437.01756\n",
      "2025-02-12 12:00:00   96094.65   96350.00   95944.44   95982.97   471.65116\n",
      "2025-02-12 13:00:00   95982.97   96631.66   94088.23   94975.38  6201.22653\n",
      "2025-02-12 14:00:00   94975.37   95685.90   94500.00   95628.91  2815.25179\n",
      "2025-02-12 15:00:00   95628.92   95673.83   95384.61   95418.00    53.49508\n",
      "\n",
      "[500 rows x 5 columns]\n"
     ]
    }
   ],
   "source": [
    "# Get the latest 500 candles of BTC/USDT in 1 hour timeframe\n",
    "\n",
    "ohlcv = exchange.fetch_ohlcv('BTC/USDT', timeframe='1h', limit=500)\n",
    "\n",
    "# Convert the data into a pandas dataframe\n",
    "df = pd.DataFrame(ohlcv, columns=['timestamp', 'open', 'high', 'low', 'close', 'volume']) \n",
    "print(df)\n",
    "\n",
    "for candle in ohlcv:\n",
    "    timestamp = candle[0]  # 時間戳\n",
    "    open_price = candle[1]\n",
    "    high = candle[2]\n",
    "    low = candle[3]\n",
    "    close = candle[4]\n",
    "    volume = candle[5]\n",
    "    # Do something \n",
    "\n",
    "print('----------------------------------------------------------------------------------------------------------------------')\n",
    "\n",
    "# Convert timestamp to datetime\n",
    "df['timestamp'] = pd.to_datetime(df['timestamp'], unit='ms') \n",
    "df.set_index('timestamp', inplace=True) \n",
    "print(df)"
   ]
  },
  {
   "cell_type": "code",
   "execution_count": null,
   "metadata": {},
   "outputs": [
    {
     "name": "stdout",
     "output_type": "stream",
     "text": [
      "Date 2024-01-01 00:00:00 with timestamp: 1704038400000 (milliseconds)\n"
     ]
    }
   ],
   "source": [
    "# Transforming a timepoint into a timstamp\n",
    "\n",
    "import time\n",
    "from datetime import datetime\n",
    "\n",
    "date_str = '2024-01-01 00:00:00'\n",
    "\n",
    "# Use strptime to turn it into a datetime object\n",
    "dt = datetime.strptime(date_str, '%Y-%m-%d %H:%M:%S')\n",
    "\n",
    "timestamp_seconds = int(dt.timestamp())\n",
    "\n",
    "# turn into milliseconds\n",
    "timestamp_milliseconds = timestamp_seconds * 1000\n",
    "\n",
    "print(f\"Date {date_str} with timestamp: {timestamp_milliseconds} (milliseconds)\")"
   ]
  },
  {
   "cell_type": "code",
   "execution_count": null,
   "metadata": {},
   "outputs": [],
   "source": [
    "# An alternative way to get the timestamp\n",
    "\n",
    "TimeStamp = exchange.parse8601('2024-01-01T00:00:00Z') # 2024-01-01 00:00:00 with MILLIseconds"
   ]
  },
  {
   "cell_type": "code",
   "execution_count": null,
   "metadata": {},
   "outputs": [],
   "source": [
    "# Get 500 candles of BTC/USDT in 1 day timeframe SINCE 2024-01-01\n",
    "\n",
    "from datetime import datetime\n",
    "TheTime = int(datetime(2024, 1, 1).timestamp() * 1000)\n",
    "ohlcv = exchange.fetch_ohlcv('BTC/USDT', timeframe='1d', since=TheTime, limit=500)"
   ]
  }
 ],
 "metadata": {
  "kernelspec": {
   "display_name": "Trading",
   "language": "python",
   "name": "python3"
  },
  "language_info": {
   "codemirror_mode": {
    "name": "ipython",
    "version": 3
   },
   "file_extension": ".py",
   "mimetype": "text/x-python",
   "name": "python",
   "nbconvert_exporter": "python",
   "pygments_lexer": "ipython3",
   "version": "3.12.8"
  }
 },
 "nbformat": 4,
 "nbformat_minor": 2
}
