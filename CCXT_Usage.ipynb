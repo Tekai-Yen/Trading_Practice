{
 "cells": [
  {
   "cell_type": "code",
   "execution_count": null,
   "metadata": {},
   "outputs": [],
   "source": [
    "print(\"This file exists for the purpose of making sure the Anaconda environment and the relative modules are working properly.\")"
   ]
  },
  {
   "cell_type": "code",
   "execution_count": 3,
   "metadata": {},
   "outputs": [],
   "source": [
    "import ccxt\n",
    "import backtrader as bt\n",
    "import numpy as np\n",
    "import pandas as pd\n",
    "import matplotlib as plt"
   ]
  },
  {
   "cell_type": "code",
   "execution_count": 4,
   "metadata": {},
   "outputs": [],
   "source": [
    "exchange = ccxt.binance({\n",
    "    'enableRateLimit': True\n",
    "    # 'apiKey': '你的API_KEY',\n",
    "    # 'secret': '你的SECRET_KEY',\n",
    "})"
   ]
  },
  {
   "cell_type": "code",
   "execution_count": null,
   "metadata": {},
   "outputs": [],
   "source": [
    "# Loading all information about the markets\n",
    "\n",
    "markets = exchange.load_markets()\n",
    "print(markets['BTC/USDT'])\n",
    "print(markets['BTC/USDT']['taker'])\n",
    "print(markets['BTC/USDT']['marginModes']['cross'])\n",
    "\n",
    "\n",
    "'''\n",
    "To find out more structure about the markets, visit the following link:\n",
    "https://docs.ccxt.com/#/README?id=market-structure\n",
    "'''"
   ]
  },
  {
   "cell_type": "code",
   "execution_count": null,
   "metadata": {},
   "outputs": [],
   "source": [
    "# Not important (this should run AFTER loading the markets)\n",
    "\n",
    "symbols = exchange.symbols\n",
    "print(\"supported :\", symbols[:10])  # first 10 symbols"
   ]
  },
  {
   "cell_type": "code",
   "execution_count": null,
   "metadata": {},
   "outputs": [],
   "source": [
    "# Getting the ticker of BTC/USDT\n",
    "\n",
    "ticker = exchange.fetch_ticker('BTC/USDT')\n",
    "print(ticker)\n",
    "print(ticker['last']) # Last price of BTC\n",
    "print(ticker['timestamp']) # Timestamp of the last price\n",
    "print(ticker['datetime']) # Datetime of the last price\n",
    "print(ticker['open'])\n",
    "print(ticker['high'])\n",
    "print(ticker['low'])\n",
    "print(ticker['close'])\n",
    "print(ticker['vwap']) # Volume Weighted Average Price, a TA"
   ]
  },
  {
   "cell_type": "code",
   "execution_count": 12,
   "metadata": {},
   "outputs": [],
   "source": [
    "# Error Detecting when getting ticker\n",
    "\n",
    "try:\n",
    "    ticker = exchange.fetch_ticker('BTC/USDT')\n",
    "except ccxt.NetworkError as e:\n",
    "    print(\"網路錯誤:\", str(e))\n",
    "except ccxt.ExchangeError as e:\n",
    "    print(\"交易所錯誤:\", str(e))\n",
    "except Exception as e:\n",
    "    print(\"其他錯誤:\", str(e))"
   ]
  },
  {
   "cell_type": "code",
   "execution_count": null,
   "metadata": {},
   "outputs": [],
   "source": [
    "# Get the latest 500 candles of BTC/USDT in 1 hour timeframe\n",
    "\n",
    "ohlcv = exchange.fetch_ohlcv('BTC/USDT', timeframe='1h', limit=500)\n",
    "\n",
    "# Convert the data into a pandas dataframe\n",
    "df = pd.DataFrame(ohlcv, columns=['timestamp', 'open', 'high', 'low', 'close', 'volume']) \n",
    "print(df)\n",
    "\n",
    "for candle in ohlcv:\n",
    "    timestamp = candle[0]  # 時間戳\n",
    "    open_price = candle[1]\n",
    "    high = candle[2]\n",
    "    low = candle[3]\n",
    "    close = candle[4]\n",
    "    volume = candle[5]\n",
    "    # Do something \n",
    "\n",
    "print('----------------------------------------------------------------------------------------------------------------------')\n",
    "\n",
    "# Convert timestamp to datetime\n",
    "df['timestamp'] = pd.to_datetime(df['timestamp'], unit='ms') \n",
    "df.set_index('timestamp', inplace=True) \n",
    "print(df)"
   ]
  },
  {
   "cell_type": "code",
   "execution_count": null,
   "metadata": {},
   "outputs": [],
   "source": [
    "# Transforming a timepoint into a timstamp\n",
    "\n",
    "import time\n",
    "from datetime import datetime\n",
    "\n",
    "date_str = '2024-01-01 00:00:00'\n",
    "\n",
    "# Use strptime to turn it into a datetime object\n",
    "dt = datetime.strptime(date_str, '%Y-%m-%d %H:%M:%S')\n",
    "\n",
    "timestamp_seconds = int(dt.timestamp())\n",
    "\n",
    "# turn into milliseconds\n",
    "timestamp_milliseconds = timestamp_seconds * 1000\n",
    "\n",
    "print(f\"Date {date_str} with timestamp: {timestamp_milliseconds} (milliseconds)\")"
   ]
  },
  {
   "cell_type": "code",
   "execution_count": null,
   "metadata": {},
   "outputs": [],
   "source": [
    "# An alternative way to get the timestamp\n",
    "\n",
    "TimeStamp = exchange.parse8601('2024-01-01T00:00:00Z') # 2024-01-01 00:00:00 with MILLIseconds"
   ]
  },
  {
   "cell_type": "code",
   "execution_count": null,
   "metadata": {},
   "outputs": [],
   "source": [
    "# Get 500 candles of BTC/USDT in 1 day timeframe SINCE 2024-01-01\n",
    "\n",
    "from datetime import datetime\n",
    "TheTime = int(datetime(2024, 1, 1).timestamp() * 1000)\n",
    "ohlcv = exchange.fetch_ohlcv('BTC/USDT', timeframe='1d', since=TheTime, limit=500)"
   ]
  }
 ],
 "metadata": {
  "kernelspec": {
   "display_name": "Trading",
   "language": "python",
   "name": "python3"
  },
  "language_info": {
   "codemirror_mode": {
    "name": "ipython",
    "version": 3
   },
   "file_extension": ".py",
   "mimetype": "text/x-python",
   "name": "python",
   "nbconvert_exporter": "python",
   "pygments_lexer": "ipython3",
   "version": "3.12.8"
  }
 },
 "nbformat": 4,
 "nbformat_minor": 2
}
