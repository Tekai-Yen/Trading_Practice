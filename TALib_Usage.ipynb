{
 "cells": [
  {
   "cell_type": "code",
   "execution_count": 17,
   "metadata": {},
   "outputs": [],
   "source": [
    "import ccxt\n",
    "import numpy as np\n",
    "import pandas as pd\n",
    "import talib\n",
    "from datetime import datetime"
   ]
  },
  {
   "cell_type": "code",
   "execution_count": 22,
   "metadata": {},
   "outputs": [],
   "source": [
    "# first we need to have a list of ohlcv data\n",
    "# let's get 1000 bars of 1 hour data from 2024-01-01 00:00:00 UTC\n",
    "\n",
    "exchange = ccxt.binance()\n",
    "\n",
    "symbol = 'BTC/USDT'\n",
    "timeframe = '1h'\n",
    "limit = 1000\n",
    "since = exchange.parse8601('2024-01-01T00:00:00Z')\n",
    "\n",
    "ohlcv = exchange.fetch_ohlcv(symbol, timeframe, since, limit)\n",
    "df = pd.DataFrame(ohlcv, columns=['timestamp', 'open', 'high', 'low', 'close', 'volume'])\n",
    "df['timestamp'] = pd.to_datetime(df['timestamp'], unit='ms')\n",
    "# print(df)"
   ]
  },
  {
   "cell_type": "code",
   "execution_count": 23,
   "metadata": {},
   "outputs": [],
   "source": [
    "# Create numpy arrays of prices from the ohlcv data\n",
    "# 0 : timestamp   1 : open   2 : high   3 : low   4 : close   5 : volume\n",
    "\n",
    "Open = [candle[1] for candle in ohlcv]\n",
    "Open = np.array(Open)\n",
    "\n",
    "High = [candle[2] for candle in ohlcv]\n",
    "High = np.array(High)\n",
    "\n",
    "Low = [candle[3] for candle in ohlcv]\n",
    "Low = np.array(Low)\n",
    "\n",
    "Close = [candle[4] for candle in ohlcv]\n",
    "Close = np.array(Close)"
   ]
  },
  {
   "cell_type": "code",
   "execution_count": 24,
   "metadata": {},
   "outputs": [],
   "source": [
    "# Some MAs\n",
    "\n",
    "sma_20 = talib.SMA(Close, timeperiod=20)\n",
    "sma_50 = talib.SMA(Close, timeperiod=50)\n",
    "sma_200 = talib.SMA(Close, timeperiod=200)\n",
    "\n",
    "ema_20 = talib.EMA(Close, timeperiod=20)\n",
    "ema_50 = talib.EMA(Close, timeperiod=50)\n",
    "ema_200 = talib.EMA(Close, timeperiod=200)\n",
    "\n",
    "wma_20 = talib.WMA(Close, timeperiod=20)\n",
    "wma_50 = talib.WMA(Close, timeperiod=50)\n",
    "wma_200 = talib.WMA(Close, timeperiod=200)\n",
    "\n",
    "trima_20 = talib.TRIMA(Close, timeperiod=20)\n",
    "trima_50 = talib.TRIMA(Close, timeperiod=50)\n",
    "trima_200 = talib.TRIMA(Close, timeperiod=200)"
   ]
  },
  {
   "cell_type": "code",
   "execution_count": null,
   "metadata": {},
   "outputs": [],
   "source": []
  },
  {
   "cell_type": "code",
   "execution_count": null,
   "metadata": {},
   "outputs": [],
   "source": []
  }
 ],
 "metadata": {
  "kernelspec": {
   "display_name": "Trading",
   "language": "python",
   "name": "python3"
  },
  "language_info": {
   "codemirror_mode": {
    "name": "ipython",
    "version": 3
   },
   "file_extension": ".py",
   "mimetype": "text/x-python",
   "name": "python",
   "nbconvert_exporter": "python",
   "pygments_lexer": "ipython3",
   "version": "3.12.8"
  }
 },
 "nbformat": 4,
 "nbformat_minor": 2
}
